{
 "cells": [
  {
   "cell_type": "code",
   "execution_count": 2,
   "metadata": {
    "collapsed": false
   },
   "outputs": [
    {
     "name": "stdout",
     "output_type": "stream",
     "text": [
      "array([   3.00192468,    6.87778562,   10.66589402,   14.34670334,\n",
      "         17.9350893 ,   21.40394978,   24.76412352,   27.99547052,\n",
      "         31.09086473,   34.03956546,   36.82716349,   39.41893798,\n",
      "         41.77369887,   43.89474582,   45.93278129,   48.19407077,\n",
      "         50.76574958,   53.61020972,   56.68880345,   60.00934659,\n",
      "         63.51783591,   67.22892588,   71.15368648,   75.25855653,\n",
      "         79.58095501,   84.06523308,   88.76328669,   93.66490392,\n",
      "         98.66595167,  103.84802978,  109.36371687,  114.84243018,\n",
      "        120.74738465,  126.73042986,  132.74578703,  139.21690509,\n",
      "        145.68270982,  152.56897078,  159.53693989,  166.61297974,\n",
      "        173.90935316,  181.26988915,  188.97306186,  196.89516319,\n",
      "        204.89015423,  212.89641467,  221.48693418,  230.71771826,\n",
      "        241.96853287,  256.46028105])\n"
     ]
    }
   ],
   "source": [
    "import sys, os\n",
    "from matplotlib import pyplot as plt\n",
    "from pprint import pprint\n",
    "import numpy as np\n",
    "\n",
    "filein = \"../Benchmark/test0.out\"\n",
    "data = np.loadtxt(filein,skiprows=1)\n",
    "eig_vals = np.linalg.eigvals(data)\n",
    "eig_vals_sorted = np.sort(eig_vals)\n",
    "pprint(eig_vals_sorted)"
   ]
  },
  {
   "cell_type": "code",
   "execution_count": 2,
   "metadata": {
    "collapsed": false
   },
   "outputs": [
    {
     "name": "stdout",
     "output_type": "stream",
     "text": [
      "[[ 1.  1.  0.  3.]\n",
      " [ 1.  1.  0.  1.]\n",
      " [ 0.  0.  1.  0.]\n",
      " [ 3.  1.  0.  0.]]\n"
     ]
    },
    {
     "data": {
      "text/plain": [
       "(array([ 4.16866865, -2.54560771,  0.37693905,  1.        ]),\n",
       " array([[-0.69250684, -0.63953134,  0.33381723,  0.        ],\n",
       "        [-0.40660982, -0.03620833, -0.91288412,  0.        ],\n",
       "        [ 0.        ,  0.        ,  0.        ,  1.        ],\n",
       "        [-0.59590496,  0.76791186,  0.23496521,  0.        ]]))"
      ]
     },
     "execution_count": 2,
     "metadata": {},
     "output_type": "execute_result"
    }
   ],
   "source": [
    "import sys,os\n",
    "import numpy as np\n",
    "from pprint import pprint\n",
    "\n",
    "filein = \"../Benchmark/test2_4.in\"\n",
    "mtx = np.loadtxt(filein)\n",
    "print(np.matrix(mtx))\n",
    "w,v = np.linalg.eig(mtx)\n",
    "w,v"
   ]
  },
  {
   "cell_type": "code",
   "execution_count": 21,
   "metadata": {
    "collapsed": false
   },
   "outputs": [],
   "source": [
    "import sys, os\n",
    "from matplotlib import pyplot as plt\n",
    "from pprint import pprint\n",
    "import numpy as np\n",
    "\n",
    "\n",
    "ffig = \"omega1.pdf\"\n",
    "filein = \"efnts.out\"\n",
    "data = np.loadtxt(filein)\n",
    "y = data[:,4]\n",
    "\n",
    "#n=len(y)\n",
    "x = np.arange(0.01,1.01,0.01)\n",
    "plot = plt.plot(x,y)\n",
    "plt.show()\n",
    "plt.savefig(ffig)\n",
    "plt.clf()"
   ]
  },
  {
   "cell_type": "code",
   "execution_count": null,
   "metadata": {
    "collapsed": true
   },
   "outputs": [],
   "source": []
  }
 ],
 "metadata": {
  "kernelspec": {
   "display_name": "Python 2",
   "language": "python",
   "name": "python2"
  },
  "language_info": {
   "codemirror_mode": {
    "name": "ipython",
    "version": 2
   },
   "file_extension": ".py",
   "mimetype": "text/x-python",
   "name": "python",
   "nbconvert_exporter": "python",
   "pygments_lexer": "ipython2",
   "version": "2.7.11"
  }
 },
 "nbformat": 4,
 "nbformat_minor": 0
}
