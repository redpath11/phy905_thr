{
 "cells": [
  {
   "cell_type": "code",
   "execution_count": 30,
   "metadata": {
    "collapsed": false
   },
   "outputs": [
    {
     "name": "stdout",
     "output_type": "stream",
     "text": [
      "0.0267866036183 seconds process time\n",
      "array([    2.97387033,     6.98289844,    10.99475637,    14.98379383,\n",
      "          19.01167273,    23.31198994,    28.15944706,    33.76587707,\n",
      "          40.14443852,    47.27265215,    55.16690311,    63.8423081 ,\n",
      "          73.26887792,    83.35842356,    94.16739195,   105.72608972,\n",
      "         117.91859699,   130.73489005,   144.28783816,   158.47130723,\n",
      "         173.28298399,   188.73994031,   204.68639703,   221.33444678,\n",
      "         238.47179394,   256.25511466,   274.46205197,   293.2727144 ,\n",
      "         312.54295342,   332.32961   ,   352.48908517,   373.16193691,\n",
      "         394.29643001,   415.70931559,   437.61019429,   459.85894321,\n",
      "         482.35571933,   505.25540083,   528.43087533,   551.87145813,\n",
      "         575.56493486,   599.45005521,   623.57754422,   647.87040587,\n",
      "         672.33824185,   696.93014597,   721.57560553,   746.36871258,\n",
      "         771.17967712,   796.06022293,   820.91024952,   845.80863733,\n",
      "         870.61472056,   895.42895551,   920.12080378,   944.70677966,\n",
      "         969.17231682,   993.45572714,  1017.54949455,  1041.44392639,\n",
      "        1065.15788879,  1088.62802828,  1111.78120193,  1134.62544809,\n",
      "        1157.18892526,  1179.44246677,  1201.28095804,  1222.74815183,\n",
      "        1243.863934  ,  1264.50656192,  1284.72992856,  1304.49649451,\n",
      "        1323.73417449,  1342.56277658,  1360.76966673,  1378.55988089,\n",
      "        1395.67762188,  1412.33696564,  1428.30748857,  1443.74795723,\n",
      "        1458.55894123,  1472.70805001,  1486.27373926,  1499.12725989,\n",
      "        1511.30700008,  1522.86709658,  1533.67911676,  1543.75429415,\n",
      "        1553.15845489,  1561.86391501,  1569.78827487,  1576.93001431,\n",
      "        1583.30124599,  1588.88488212,  1593.66325283,  1597.52492388,\n",
      "        1600.55774227,  1603.94930604,  1608.61925158,  1615.24817235])\n"
     ]
    }
   ],
   "source": [
    "import sys, os\n",
    "from matplotlib import pyplot as plt\n",
    "from pprint import pprint\n",
    "import numpy as np\n",
    "import time\n",
    "\n",
    "filein = \"../Benchmark/test0.out\"\n",
    "data = np.loadtxt(filein,skiprows=1)\n",
    "t0=time.clock()\n",
    "eig_vals = np.linalg.eigvals(data)\n",
    "print time.clock() - t0, \"seconds process time\"\n",
    "eig_vals_sorted = np.sort(eig_vals)\n",
    "pprint(eig_vals_sorted)"
   ]
  },
  {
   "cell_type": "code",
   "execution_count": 2,
   "metadata": {
    "collapsed": false
   },
   "outputs": [
    {
     "name": "stdout",
     "output_type": "stream",
     "text": [
      "[[ 1.  1.  0.  3.]\n",
      " [ 1.  1.  0.  1.]\n",
      " [ 0.  0.  1.  0.]\n",
      " [ 3.  1.  0.  0.]]\n"
     ]
    },
    {
     "data": {
      "text/plain": [
       "(array([ 4.16866865, -2.54560771,  0.37693905,  1.        ]),\n",
       " array([[-0.69250684, -0.63953134,  0.33381723,  0.        ],\n",
       "        [-0.40660982, -0.03620833, -0.91288412,  0.        ],\n",
       "        [ 0.        ,  0.        ,  0.        ,  1.        ],\n",
       "        [-0.59590496,  0.76791186,  0.23496521,  0.        ]]))"
      ]
     },
     "execution_count": 2,
     "metadata": {},
     "output_type": "execute_result"
    }
   ],
   "source": [
    "import sys,os\n",
    "import numpy as np\n",
    "from pprint import pprint\n",
    "\n",
    "filein = \"../Benchmark/test2_4.in\"\n",
    "mtx = np.loadtxt(filein)\n",
    "print(np.matrix(mtx))\n",
    "w,v = np.linalg.eig(mtx)\n",
    "w,v"
   ]
  },
  {
   "cell_type": "code",
   "execution_count": 21,
   "metadata": {
    "collapsed": false
   },
   "outputs": [],
   "source": [
    "import sys, os\n",
    "from matplotlib import pyplot as plt\n",
    "from pprint import pprint\n",
    "import numpy as np\n",
    "\n",
    "\n",
    "ffig = \"omega1.pdf\"\n",
    "filein = \"efnts.out\"\n",
    "data = np.loadtxt(filein)\n",
    "y = data[:,4]\n",
    "\n",
    "#n=len(y)\n",
    "x = np.arange(0.01,1.01,0.01)\n",
    "plot = plt.plot(x,y)\n",
    "plt.show()\n",
    "plt.savefig(ffig)\n",
    "plt.clf()"
   ]
  },
  {
   "cell_type": "code",
   "execution_count": 25,
   "metadata": {
    "collapsed": false
   },
   "outputs": [
    {
     "name": "stdout",
     "output_type": "stream",
     "text": [
      "       2\n",
      "1.705 x - 9.114 x + 299.2\n"
     ]
    }
   ],
   "source": [
    "########################################\n",
    "## Plot number of iterations vs.      ##\n",
    "## number of grid points (matrix dim) ##\n",
    "########################################\n",
    "import sys, os, math\n",
    "from matplotlib import pyplot as plt\n",
    "import numpy as np\n",
    "\n",
    "x=[20,50,100,200,500]\n",
    "##xl=[math.log10(t) for t in x]\n",
    "y=[609,4047,16532,66618,421903]\n",
    "f=np.polyfit(x,y,2)\n",
    "ff=np.poly1d(f)\n",
    "xf=np.linspace(10,550)\n",
    "print(np.poly1d(f))\n",
    "##yl=[math.log10(t) for t in y]\n",
    "##plt.axis([0,5,0,7])\n",
    "##plot = plt.plot(x,y,'b+',markersize=10)\n",
    "##plt.show()\n",
    "fig1, ax1=plt.subplots()\n",
    "ax1.plot(x,y,'r+',markersize=10)\n",
    "ax1.plot(xf,ff(xf),'b')\n",
    "plt.xlabel('Dimensionality')\n",
    "plt.ylabel('Number of Iterations')\n",
    "ax1.set_xscale('log')\n",
    "ax1.set_yscale('log')\n",
    "plt.show()\n",
    "#plt.savefig(\"dnit.pdf\")\n",
    "#plt.clf()"
   ]
  },
  {
   "cell_type": "code",
   "execution_count": 40,
   "metadata": {
    "collapsed": false
   },
   "outputs": [],
   "source": [
    "#####################################\n",
    "## Plot first three wave functions ##\n",
    "#####################################\n",
    "import sys, os, math\n",
    "from matplotlib import pyplot as plt\n",
    "import numpy as np\n",
    "\n",
    "x = np.linspace(0.1,5.1,50)\n",
    "\n",
    "infile1 = \"../Benchmark/wavefunction0.out\"\n",
    "infile2 = \"../Benchmark/wavefunction1.out\"\n",
    "infile3 = \"../Benchmark/wavefunction2.out\"\n",
    "\n",
    "y1 = np.loadtxt(infile1)\n",
    "y2 = np.loadtxt(infile2)\n",
    "y3 = np.loadtxt(infile3)\n",
    "\n",
    "plt.axis([0.,5.,0.,0.1])\n",
    "plot1 = plt.plot(x,y1,'b',label='gs')\n",
    "plot2 = plt.plot(x,y2,'r',label='ex1')\n",
    "plot3 = plt.plot(x,y3,'g',label='ex2')\n",
    "plt.xlabel(r'$\\rho$')\n",
    "plt.ylabel(r'$|\\psi|^2$')\n",
    "plt.legend(loc=1)\n",
    "plt.show()"
   ]
  },
  {
   "cell_type": "code",
   "execution_count": null,
   "metadata": {
    "collapsed": true
   },
   "outputs": [],
   "source": []
  }
 ],
 "metadata": {
  "kernelspec": {
   "display_name": "Python 2",
   "language": "python",
   "name": "python2"
  },
  "language_info": {
   "codemirror_mode": {
    "name": "ipython",
    "version": 2
   },
   "file_extension": ".py",
   "mimetype": "text/x-python",
   "name": "python",
   "nbconvert_exporter": "python",
   "pygments_lexer": "ipython2",
   "version": "2.7.11"
  }
 },
 "nbformat": 4,
 "nbformat_minor": 0
}
