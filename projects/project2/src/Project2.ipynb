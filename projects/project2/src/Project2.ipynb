{
 "cells": [
  {
   "cell_type": "code",
   "execution_count": null,
   "metadata": {
    "collapsed": false
   },
   "outputs": [],
   "source": [
    "import sys, os\n",
    "from matplotlib import pyplot as plt\n",
    "from pprint import pprint\n",
    "import numpy as np\n",
    "import time\n",
    "\n",
    "filein = \"../Benchmark/test0.out\"\n",
    "data = np.loadtxt(filein,skiprows=1)\n",
    "t0=time.clock()\n",
    "eig_vals = np.linalg.eigvals(data)\n",
    "print time.clock() - t0, \"seconds process time\"\n",
    "eig_vals_sorted = np.sort(eig_vals)\n",
    "pprint(eig_vals_sorted)"
   ]
  },
  {
   "cell_type": "code",
   "execution_count": null,
   "metadata": {
    "collapsed": false
   },
   "outputs": [],
   "source": [
    "import sys,os\n",
    "import numpy as np\n",
    "from pprint import pprint\n",
    "\n",
    "filein = \"../Benchmark/test2_4.in\"\n",
    "mtx = np.loadtxt(filein)\n",
    "print(np.matrix(mtx))\n",
    "w,v = np.linalg.eig(mtx)\n",
    "w,v"
   ]
  },
  {
   "cell_type": "code",
   "execution_count": null,
   "metadata": {
    "collapsed": false
   },
   "outputs": [],
   "source": [
    "import sys, os\n",
    "from matplotlib import pyplot as plt\n",
    "from pprint import pprint\n",
    "import numpy as np\n",
    "\n",
    "\n",
    "ffig = \"omega1.pdf\"\n",
    "filein = \"efnts.out\"\n",
    "data = np.loadtxt(filein)\n",
    "y = data[:,4]\n",
    "\n",
    "#n=len(y)\n",
    "x = np.arange(0.01,1.01,0.01)\n",
    "plot = plt.plot(x,y)\n",
    "plt.show()\n",
    "plt.savefig(ffig)\n",
    "plt.clf()"
   ]
  },
  {
   "cell_type": "code",
   "execution_count": null,
   "metadata": {
    "collapsed": false
   },
   "outputs": [],
   "source": [
    "########################################\n",
    "## Plot number of iterations vs.      ##\n",
    "## number of grid points (matrix dim) ##\n",
    "########################################\n",
    "import sys, os, math\n",
    "from matplotlib import pyplot as plt\n",
    "import numpy as np\n",
    "\n",
    "x=[20,50,100,200,500]\n",
    "##xl=[math.log10(t) for t in x]\n",
    "y=[609,4047,16532,66618,421903]\n",
    "f=np.polyfit(x,y,2)\n",
    "ff=np.poly1d(f)\n",
    "xf=np.linspace(10,550)\n",
    "print(np.poly1d(f))\n",
    "##yl=[math.log10(t) for t in y]\n",
    "##plt.axis([0,5,0,7])\n",
    "##plot = plt.plot(x,y,'b+',markersize=10)\n",
    "##plt.show()\n",
    "fig1, ax1=plt.subplots()\n",
    "ax1.plot(x,y,'r+',markersize=10)\n",
    "ax1.plot(xf,ff(xf),'b')\n",
    "plt.xlabel('Dimensionality')\n",
    "plt.ylabel('Number of Iterations')\n",
    "ax1.set_xscale('log')\n",
    "ax1.set_yscale('log')\n",
    "plt.show()\n",
    "#plt.savefig(\"dnit.pdf\")\n",
    "#plt.clf()"
   ]
  },
  {
   "cell_type": "code",
   "execution_count": null,
   "metadata": {
    "collapsed": false
   },
   "outputs": [],
   "source": [
    "#####################################\n",
    "## Plot first three wave functions ##\n",
    "#####################################\n",
    "import sys, os, math\n",
    "from matplotlib import pyplot as plt\n",
    "import numpy as np\n",
    "\n",
    "x = np.linspace(0.1,5.1,50)\n",
    "\n",
    "infile1 = \"../Benchmark/wavefunction0.out\"\n",
    "infile2 = \"../Benchmark/wavefunction1.out\"\n",
    "infile3 = \"../Benchmark/wavefunction2.out\"\n",
    "\n",
    "y1 = np.loadtxt(infile1)\n",
    "y2 = np.loadtxt(infile2)\n",
    "y3 = np.loadtxt(infile3)\n",
    "\n",
    "plt.axis([0.,5.,0.,0.1])\n",
    "plot1 = plt.plot(x,y1,'b',label='gs')\n",
    "plot2 = plt.plot(x,y2,'r',label='ex1')\n",
    "plot3 = plt.plot(x,y3,'g',label='ex2')\n",
    "plt.xlabel(r'$\\rho$')\n",
    "plt.ylabel(r'$|\\psi|^2$')\n",
    "plt.legend(loc=1)\n",
    "plt.show()"
   ]
  },
  {
   "cell_type": "code",
   "execution_count": 37,
   "metadata": {
    "collapsed": false
   },
   "outputs": [
    {
     "name": "stdout",
     "output_type": "stream",
     "text": [
      "1.00000024876\n",
      "0.999998583287\n",
      "1.00000537554\n",
      "0.999993607283\n"
     ]
    }
   ],
   "source": [
    "########################################\n",
    "## Plot wvfnts with different omega^2 ##\n",
    "########################################\n",
    "import sys, os, math\n",
    "from matplotlib import pyplot as plt\n",
    "import numpy as np\n",
    "\n",
    "infile1 = \"../Benchmark/GSwavefunction0.00.out\"\n",
    "infile2 = \"../Benchmark/GSwavefunction0.25.out\"\n",
    "infile3 = \"../Benchmark/GSwavefunction1.00.out\"\n",
    "infile4 = \"../Benchmark/GSwavefunction25.00.out\"\n",
    "\n",
    "data1 = np.loadtxt(infile1)\n",
    "x1 = data1[:,0]\n",
    "y1 = data1[:,1]\n",
    "print np.sum(y1)\n",
    "\n",
    "data2 = np.loadtxt(infile2)\n",
    "x2 = data2[:,0]\n",
    "y2 = data2[:,1]\n",
    "print np.sum(y2)\n",
    "\n",
    "data3 = np.loadtxt(infile3)\n",
    "x3 = data3[:,0]\n",
    "y3 = data3[:,1]\n",
    "print np.sum(y3)\n",
    "\n",
    "data4 = np.loadtxt(infile4)\n",
    "x4 = data4[:,0]\n",
    "y4 = data4[:,1]\n",
    "print np.sum(y4)\n",
    "\n",
    "#max1 = np.amax(y1)\n",
    "#max2 = np.amax(y2)\n",
    "#max3 = np.amax(y3)\n",
    "#max4 = np.amax(y4)\n",
    "#ys1  = [t*(max4/max1) for t in y1]\n",
    "#ys2  = [t*(max4/max2) for t in y2]\n",
    "#ys3  = [t*(max4/max3) for t in y3]\n",
    "\n",
    "fig1, ax1=plt.subplots()\n",
    "##plt.axis([0.,16.,0.,0.05])\n",
    "plot1 = plt.plot(x1,y1,'k',label=r'$\\omega = 0.01$')\n",
    "plot2 = plt.plot(x2,y2,'b',label=r'$\\omega = 0.25$')\n",
    "plot3 = plt.plot(x3,y3,'r',label=r'$\\omega = 1.0$')\n",
    "plot4 = plt.plot(x4,y4,'g',label=r'$\\omega = 5.0$')\n",
    "plt.xlabel(r'$\\rho$')\n",
    "plt.ylabel(r'$|\\psi|^2$')\n",
    "ax1.set_xscale('log')\n",
    "ax1.set_yscale('log')\n",
    "ax1.set_yticklabels([])\n",
    "plt.legend(loc=1)\n",
    "plt.show()"
   ]
  },
  {
   "cell_type": "code",
   "execution_count": 28,
   "metadata": {
    "collapsed": true
   },
   "outputs": [],
   "source": [
    "#################################\n",
    "## Plot single gs wavefunction ##\n",
    "#################################\n",
    "import sys, os, math\n",
    "from matplotlib import pyplot as plt\n",
    "import numpy as np\n",
    "\n",
    "infile = \"../Benchmark/GSwavefunction0.25.out\"\n",
    "\n",
    "data = np.loadtxt(infile)\n",
    "\n",
    "x = data[:,0]\n",
    "y = data[:,1]\n",
    "plot1 = plt.plot(x,y)\n",
    "plt.show()"
   ]
  },
  {
   "cell_type": "code",
   "execution_count": null,
   "metadata": {
    "collapsed": true
   },
   "outputs": [],
   "source": []
  }
 ],
 "metadata": {
  "kernelspec": {
   "display_name": "Python 2",
   "language": "python",
   "name": "python2"
  },
  "language_info": {
   "codemirror_mode": {
    "name": "ipython",
    "version": 2
   },
   "file_extension": ".py",
   "mimetype": "text/x-python",
   "name": "python",
   "nbconvert_exporter": "python",
   "pygments_lexer": "ipython2",
   "version": "2.7.11"
  }
 },
 "nbformat": 4,
 "nbformat_minor": 0
}
